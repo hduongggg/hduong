{
 "cells": [
  {
   "cell_type": "code",
   "execution_count": 8,
   "id": "8fe37c87-9ef8-463d-a759-b2b467eda2fc",
   "metadata": {},
   "outputs": [
    {
     "name": "stdout",
     "output_type": "stream",
     "text": [
      "Hello World!\n"
     ]
    }
   ],
   "source": [
    "#W2A1\n",
    "print(\"Hello World!\")\n"
   ]
  },
  {
   "cell_type": "code",
   "execution_count": 9,
   "id": "61dea26b-2007-4a9b-b093-a00cb3c3c508",
   "metadata": {},
   "outputs": [
    {
     "name": "stdin",
     "output_type": "stream",
     "text": [
      "Nhập tên của bạn:  Hoàng\n"
     ]
    },
    {
     "name": "stdout",
     "output_type": "stream",
     "text": [
      "Xin chào Hoàng\n"
     ]
    }
   ],
   "source": [
    "#W2A2\n",
    "name=input(\"Nhập tên của bạn: \")\n",
    "print(f\"Xin chào {name}\")"
   ]
  },
  {
   "cell_type": "code",
   "execution_count": 18,
   "id": "e591b244-56a7-4959-9eb0-5bdb3a848c3c",
   "metadata": {},
   "outputs": [
    {
     "name": "stdin",
     "output_type": "stream",
     "text": [
      "Nhập số nguyên a: 9\n",
      "Nhập số nguyên b: 6\n"
     ]
    },
    {
     "name": "stdout",
     "output_type": "stream",
     "text": [
      "15\n",
      "3\n",
      "54\n",
      "1\n",
      "3\n",
      "1.50\n"
     ]
    }
   ],
   "source": [
    "#W2A3\n",
    "a=int(input(\"Nhập số nguyên a:\"))\n",
    "b=int(input(\"Nhập số nguyên b:\"))\n",
    "print(a+b)\n",
    "print(a-b)\n",
    "print(a*b)\n",
    "print(a//b)\n",
    "print(a%b)\n",
    "print(f\"{a/b:.2f}\")"
   ]
  },
  {
   "cell_type": "code",
   "execution_count": 41,
   "id": "cba5f585-d973-41aa-9be6-63f46c84484e",
   "metadata": {},
   "outputs": [
    {
     "name": "stdin",
     "output_type": "stream",
     "text": [
      "Nhập các điểm của môn học: 9 10 10 9.5 9.5 9.5\n"
     ]
    },
    {
     "name": "stdout",
     "output_type": "stream",
     "text": [
      "9.55\n"
     ]
    }
   ],
   "source": [
    "#W2A4\n",
    "a1, b1, c1, a2, b2, a3=map(float,input(\"Nhập các điểm của môn học:\").split())\n",
    "TB=((a1+b1+c1)+(a2+b2)*2+a3*3)/10\n",
    "print(f\"{TB:.2f}\")\n",
    "\n",
    "                        "
   ]
  },
  {
   "cell_type": "code",
   "execution_count": 44,
   "id": "96d259da-1a40-4f04-90d0-c27fc1694776",
   "metadata": {},
   "outputs": [
    {
     "name": "stdin",
     "output_type": "stream",
     "text": [
      "Nhập hai số nguyên a và b: 5 6\n"
     ]
    },
    {
     "name": "stdout",
     "output_type": "stream",
     "text": [
      "15625\n"
     ]
    }
   ],
   "source": [
    "#W2A5\n",
    "a,b=map(int,input(\"Nhập hai số nguyên a và b:\").split())\n",
    "print(a**b)"
   ]
  },
  {
   "cell_type": "code",
   "execution_count": 50,
   "id": "ebb4ad5f-e9f1-4458-9fe7-ff3d7d061959",
   "metadata": {},
   "outputs": [
    {
     "name": "stdout",
     "output_type": "stream",
     "text": [
      "97\n",
      "65\n",
      "32\n",
      "A\n"
     ]
    }
   ],
   "source": [
    "#W2A6\n",
    "print(ord(\"a\"))\n",
    "print(ord(\"A\"))\n",
    "print(ord(\"a\")-ord(\"A\"))\n",
    "print(chr(ord(\"a\")-32))\n",
    "#chữ viết hoa kém chữ viết thường 32 trong bảng Unicode"
   ]
  },
  {
   "cell_type": "code",
   "execution_count": 55,
   "id": "9f5ed214-cc49-4fbc-af21-08317ff33faf",
   "metadata": {},
   "outputs": [
    {
     "name": "stdout",
     "output_type": "stream",
     "text": [
      "512\n",
      "512\n"
     ]
    }
   ],
   "source": [
    "#W2A7\n",
    "A = ((13 ** 2) * 3) + 5 \n",
    "B = 13**2*3 + 5\n",
    "print(A)\n",
    "print(B)\n",
    "#Python ưu tiên lũy thừa, nhân chia, cộng trừ"
   ]
  },
  {
   "cell_type": "code",
   "execution_count": 63,
   "id": "2d83a214-6c6d-4d01-ab52-c6ec5e39c6f9",
   "metadata": {},
   "outputs": [
    {
     "name": "stdin",
     "output_type": "stream",
     "text": [
      "Nhiệt độ Celsius: 25\n"
     ]
    },
    {
     "name": "stdout",
     "output_type": "stream",
     "text": [
      "77.00\n"
     ]
    }
   ],
   "source": [
    "#W2A8\n",
    "C= float(input(\"Nhiệt độ Celsius:\") )\n",
    "F = 9 / 5 * C + 32\n",
    "print(f\"{F:.2f}\")"
   ]
  },
  {
   "cell_type": "code",
   "execution_count": 68,
   "id": "720699c1-5a58-46fd-9d4e-8d6e341c3c80",
   "metadata": {},
   "outputs": [
    {
     "name": "stdin",
     "output_type": "stream",
     "text": [
      "Giá(USD) chiếc đồng hồ của Sơn Tùng: 2100.99\n"
     ]
    },
    {
     "name": "stdout",
     "output_type": "stream",
     "text": [
      "Tổng số tiền Sơn Tùng phải trả là: 2951.39\n"
     ]
    }
   ],
   "source": [
    "#W2A9\n",
    "x=float(input(\"Giá(USD) chiếc đồng hồ của Sơn Tùng:\"))\n",
    "VAT=1.4*x+10\n",
    "print(\"Tổng số tiền Sơn Tùng phải trả là:\", f\"{VAT:.2f}\")"
   ]
  },
  {
   "cell_type": "code",
   "execution_count": 78,
   "id": "5341f1fb-58ad-47ff-815a-a4e0e10a3b09",
   "metadata": {},
   "outputs": [
    {
     "name": "stdin",
     "output_type": "stream",
     "text": [
      "Tên của ba bạn: Bob Alice Helen\n"
     ]
    },
    {
     "name": "stdout",
     "output_type": "stream",
     "text": [
      "Hi! Helen, Alice and Bob.\n"
     ]
    }
   ],
   "source": [
    "#W2A10\n",
    "name1,name2,name3=input(\"Tên của ba bạn:\").split()\n",
    "print(\"Hi! \",name3,\", \",name2,\" and \",name1,\".\", sep=\"\")"
   ]
  },
  {
   "cell_type": "code",
   "execution_count": 82,
   "id": "15d9ea04-ad9f-445d-9838-43deaa43bf08",
   "metadata": {},
   "outputs": [
    {
     "name": "stdin",
     "output_type": "stream",
     "text": [
      "Nhập lần lượt số h giờ và số m phút: 10 34\n"
     ]
    },
    {
     "name": "stdout",
     "output_type": "stream",
     "text": [
      "Số giây đổi từ 10 giờ bằng 36000 và số giây đổi từ 34 phút bằng 2040\n"
     ]
    }
   ],
   "source": [
    "#W2A11\n",
    "h,m=map(int,input(\"Nhập lần lượt số h giờ và số m phút:\").split())\n",
    "print(f\"Số giây đổi từ {h} giờ bằng {h*3600}\",\"và\", f\"số giây đổi từ {m} phút bằng {m*60}\")"
   ]
  },
  {
   "cell_type": "code",
   "execution_count": 85,
   "id": "d83dc10b-656e-4a51-a0a0-86850ae319ef",
   "metadata": {},
   "outputs": [
    {
     "name": "stdin",
     "output_type": "stream",
     "text": [
      "Độ dài cạnh của khối Rubik là: 12\n"
     ]
    },
    {
     "name": "stdout",
     "output_type": "stream",
     "text": [
      "Số miếng dán riêng lẻ cần thiết để bao phủ toàn bộ khối lập phương là 72\n"
     ]
    }
   ],
   "source": [
    "#W2A12\n",
    "n=int(input(\"Độ dài cạnh của khối Rubik là:\"))\n",
    "print(f\"Số miếng dán riêng lẻ cần thiết để bao phủ toàn bộ khối lập phương là {n*6}\")"
   ]
  },
  {
   "cell_type": "code",
   "execution_count": 14,
   "id": "e5539ded-34bf-4582-9527-7f229859ea66",
   "metadata": {},
   "outputs": [
    {
     "name": "stdin",
     "output_type": "stream",
     "text": [
      "Nhập hai số nguyên dương a và b: -1 2\n"
     ]
    },
    {
     "name": "stdout",
     "output_type": "stream",
     "text": [
      "Bạn đã nhập không dương!\n"
     ]
    },
    {
     "name": "stdin",
     "output_type": "stream",
     "text": [
      "Nhập hai số nguyên dương a và b: 1 2\n"
     ]
    },
    {
     "name": "stdout",
     "output_type": "stream",
     "text": [
      "Chữ số hàng đơn vị của tích a và b là 2\n"
     ]
    }
   ],
   "source": [
    "#W2A13\n",
    "while True:\n",
    " try:\n",
    "  a,b=map(int,input(\"Nhập hai số nguyên dương a và b:\").split())\n",
    "  if a<=0 or b<=0:\n",
    "    print(\"Bạn đã nhập không dương!\")\n",
    "\n",
    "  else:\n",
    "    print(f\"Chữ số hàng đơn vị của tích a và b là {a*b%10}\")\n",
    "    break\n",
    " except ValueError:\n",
    "    print(\"Số liệu không hợp lệ. Vui lòng nhập số nguyên\")\n",
    "   \n",
    "\n",
    "   "
   ]
  },
  {
   "cell_type": "code",
   "execution_count": 114,
   "id": "fc879d9a-33f9-478a-8413-dc5ceee50433",
   "metadata": {},
   "outputs": [
    {
     "name": "stdout",
     "output_type": "stream",
     "text": [
      "4 2\n"
     ]
    }
   ],
   "source": [
    "#W2A14\n",
    "a=2\n",
    "b=4\n",
    "a,b=b,a\n",
    "print(a,b)\n"
   ]
  },
  {
   "cell_type": "code",
   "execution_count": 117,
   "id": "74cd6026-e3df-427f-b634-175acb46416f",
   "metadata": {},
   "outputs": [
    {
     "name": "stdin",
     "output_type": "stream",
     "text": [
      "Nhập số nguyên dương: 20\n"
     ]
    },
    {
     "name": "stdout",
     "output_type": "stream",
     "text": [
      "Số sao thứ 20 là 2281\n"
     ]
    }
   ],
   "source": [
    "#W2A15\n",
    "#Công thức tính số sao thứ n: 6n(n-1)+1\n",
    "n=int(input(\"Nhập số nguyên dương:\"))\n",
    "print(f\"Số sao thứ {n} là {6*n*(n-1)+1}\")"
   ]
  },
  {
   "cell_type": "code",
   "execution_count": 123,
   "id": "73508285-9c23-4a0f-83bd-137f13e3d02f",
   "metadata": {},
   "outputs": [
    {
     "name": "stdout",
     "output_type": "stream",
     "text": [
      "Sping\n",
      "Summer\n",
      "Autumn\n",
      "Winter\n",
      "Spring\n",
      "Summer\n",
      "Autumn\n",
      "Winter\n"
     ]
    }
   ],
   "source": [
    "#W2A16\n",
    "#1\n",
    "print(\"Sping\\nSummer\\nAutumn\\nWinter\")\n",
    "#2\n",
    "print(\"Spring\",\"Summer\",\"Autumn\",\"Winter\",sep=\"\\n\")"
   ]
  },
  {
   "cell_type": "code",
   "execution_count": 130,
   "id": "a0ac60d4-7e6e-443c-b0a0-d5c2efebac79",
   "metadata": {},
   "outputs": [
    {
     "name": "stdout",
     "output_type": "stream",
     "text": [
      "  *\n",
      " *** \n",
      "*****\n"
     ]
    }
   ],
   "source": [
    "#W2A17\n",
    "print(\"  *\",\" *** \",\"*****\",sep=\"\\n\")"
   ]
  },
  {
   "cell_type": "code",
   "execution_count": 131,
   "id": "d4d554c7-3552-4bee-9563-e195e8d6d9bd",
   "metadata": {},
   "outputs": [
    {
     "name": "stdout",
     "output_type": "stream",
     "text": [
      "\n",
      "### ##   ### ###\n",
      " #  #  #  #   #\n",
      " #  #   # #   #\n",
      " #  #   # #   #\n",
      " #  #  #  #   #\n",
      " #  # #   #   #\n"
     ]
    }
   ],
   "source": [
    "#W2A18\n",
    "print('''\n",
    "### ##   ### ###\n",
    " #  #  #  #   #\n",
    " #  #   # #   #\n",
    " #  #   # #   #\n",
    " #  #  #  #   #\n",
    " #  # #   #   #''')"
   ]
  },
  {
   "cell_type": "code",
   "execution_count": 5,
   "id": "15da3571-a0e6-4618-a710-443f9989a3ed",
   "metadata": {},
   "outputs": [
    {
     "name": "stdout",
     "output_type": "stream",
     "text": [
      "Monday\n",
      "Tuesday\n",
      "Wednesday\n",
      "Thursday\n",
      "Friday\n",
      "Saturday\n",
      "Sunday\n"
     ]
    }
   ],
   "source": [
    "#W2A19\n",
    "print(\"Monday\",\"Tuesday\",\"Wednesday\",\"Thursday\",\"Friday\",\"Saturday\",\"Sunday\",sep=\"\\n\")"
   ]
  },
  {
   "cell_type": "code",
   "execution_count": 133,
   "id": "93f6bb1b-2b4c-4401-8bf5-f3766f6a3d37",
   "metadata": {},
   "outputs": [
    {
     "name": "stdout",
     "output_type": "stream",
     "text": [
      "January\n",
      "February\n",
      "March\n",
      "April\n",
      "May\n",
      "June\n",
      "July\n",
      "August\n",
      "September\n",
      "October\n",
      "November\n",
      "December\n"
     ]
    }
   ],
   "source": [
    "#W2A20\n",
    "print(\"January\",\"February\",\"March\",\"April\",\"May\",\"June\", \"July\", \"August\", \"September\", \"October\", \"November\", \"December\", sep=\"\\n\")"
   ]
  },
  {
   "cell_type": "code",
   "execution_count": 13,
   "id": "79fdcd90-fcda-49f7-9013-90af4a10cd8e",
   "metadata": {},
   "outputs": [
    {
     "name": "stdout",
     "output_type": "stream",
     "text": [
      "Hello World!\n",
      "Hello World!\n",
      "Hello World!\n",
      "Hello World!\n",
      "Hello World!\n",
      "Hello World!\n",
      "Hello World!\n",
      "Hello World!\n",
      "Hello World!\n",
      "Hello World!\n"
     ]
    }
   ],
   "source": [
    "#W2A21\n",
    "for _ in range (10):\n",
    " print( \"Hello World!\")"
   ]
  }
 ],
 "metadata": {
  "kernelspec": {
   "display_name": "Python 3 (ipykernel)",
   "language": "python",
   "name": "python3"
  },
  "language_info": {
   "codemirror_mode": {
    "name": "ipython",
    "version": 3
   },
   "file_extension": ".py",
   "mimetype": "text/x-python",
   "name": "python",
   "nbconvert_exporter": "python",
   "pygments_lexer": "ipython3",
   "version": "3.13.5"
  }
 },
 "nbformat": 4,
 "nbformat_minor": 5
}
