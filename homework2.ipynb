{
 "cells": [
  {
   "cell_type": "code",
   "execution_count": 3,
   "id": "422c7805-bfd7-49b5-9266-692554a3f1e1",
   "metadata": {},
   "outputs": [
    {
     "name": "stdin",
     "output_type": "stream",
     "text": [
      "Nhập vào 2 cạnh của một hình chữ nhật: 6.9 5.3\n"
     ]
    },
    {
     "name": "stdout",
     "output_type": "stream",
     "text": [
      "36.57 6.1\n"
     ]
    }
   ],
   "source": [
    "#Bài 1\n",
    "a,b=map(float,input(\"Nhập vào 2 cạnh của một hình chữ nhật:\").split())\n",
    "print(a*b,(a+b)/2)"
   ]
  },
  {
   "cell_type": "code",
   "execution_count": 6,
   "id": "7daa5b4d-0e11-4f8c-a490-52a38b0b2d9f",
   "metadata": {},
   "outputs": [
    {
     "name": "stdin",
     "output_type": "stream",
     "text": [
      "Nhập vào bán kính của hình tròn: 5.5\n"
     ]
    },
    {
     "name": "stdout",
     "output_type": "stream",
     "text": [
      "95.03317777109125 34.55751918948772\n"
     ]
    }
   ],
   "source": [
    "#Bài 2\n",
    "import math\n",
    "r=float(input(\"Nhập vào bán kính của hình tròn:\"))\n",
    "print(math.pi * r**2,2* math.pi *r)"
   ]
  },
  {
   "cell_type": "code",
   "execution_count": 11,
   "id": "00cceefe-8478-48f7-84e8-9ac413cbd021",
   "metadata": {},
   "outputs": [
    {
     "name": "stdin",
     "output_type": "stream",
     "text": [
      "Nhập vào ba số bất kỳ: 8.56 9.57 7.23\n"
     ]
    },
    {
     "name": "stdout",
     "output_type": "stream",
     "text": [
      "Tam giác thường\n",
      "Diện tích 81.9192 và chu vi 36.260000000000005\n"
     ]
    }
   ],
   "source": [
    "#Bài 3\n",
    "a,b,c=map(float,input(\"Nhập vào ba số bất kỳ:\").split())\n",
    "if a+b>c and a+c>b and b+c>a:\n",
    "   if a==b==c:\n",
    "      print(\"Tam giác đều\")\n",
    "   elif a==b!=c or a==c!=b or b==c!=a:\n",
    "      print(\"Tam giác cân\")\n",
    "   elif a**2 + b**2 == c**2 or a**2 + c**2== b**2 or b**2 + c**2 == a**2:\n",
    "      print(\"Tam giác vuông\")\n",
    "   else:\n",
    "      print(\"Tam giác thường\")\n",
    "   print(f\"Diện tích {a*b} và chu vi {(a+b)*2}\")\n",
    "else: \n",
    "   print(\"Không là ba cạnh của một tam giác\")\n",
    "   "
   ]
  },
  {
   "cell_type": "code",
   "execution_count": 12,
   "id": "81649c80-0899-4fad-83ac-4096379a2043",
   "metadata": {},
   "outputs": [
    {
     "name": "stdin",
     "output_type": "stream",
     "text": [
      "Nhập hệ số góc: 5\n",
      "Nhập hệ số tự do: 5\n"
     ]
    },
    {
     "name": "stdout",
     "output_type": "stream",
     "text": [
      "Phương trình có nghiệm duy nhất x= -1.0\n"
     ]
    }
   ],
   "source": [
    "#Bài 4\n",
    "a=float(input(\"Nhập hệ số góc:\"))\n",
    "b=float(input(\"Nhập hệ số tự do:\"))\n",
    "if a==0:\n",
    "   if b==0:\n",
    "       print(\"Phương trình vô số nghiệm.\")\n",
    "   else:\n",
    "       print(\"Phương trình vô nghiệm.\")\n",
    "else:\n",
    "   if b==0:\n",
    "       print(\"Phương trình có nghiệm duy nhất x=0.\")\n",
    "   else:\n",
    "       print(\"Phương trình có nghiệm duy nhất x=\", -b/a)\n"
   ]
  },
  {
   "cell_type": "code",
   "execution_count": 7,
   "id": "c155f808-c38b-4778-ae61-d89c26ed4971",
   "metadata": {},
   "outputs": [
    {
     "name": "stdin",
     "output_type": "stream",
     "text": [
      "Nhập hệ số bậc 2: 1\n",
      "Nhập hệ số bậc 1: -5\n",
      "Hệ số tự do: 6\n"
     ]
    },
    {
     "name": "stdout",
     "output_type": "stream",
     "text": [
      "Phương trình có hai nghiệm phân biệt x1=2.0 và x2=3.0\n"
     ]
    }
   ],
   "source": [
    "#Bài 5\n",
    "import math\n",
    "a=float(input(\"Nhập hệ số bậc 2:\"))\n",
    "b=float(input(\"Nhập hệ số bậc 1:\"))\n",
    "c=float(input(\"Hệ số tự do:\"))\n",
    "delta=b**2 -4*a*c\n",
    "if delta==0:\n",
    "    print(\"Phương trình có nghiệm kép x=\",-b/(2*a))\n",
    "elif delta<0:\n",
    "    print(\"Phương trình vô nghiệm\")\n",
    "else:\n",
    "    print(f\"Phương trình có hai nghiệm phân biệt x1={(-b-math.sqrt(delta))/(2*a)} và x2={(-b+math.sqrt(delta))/(2*a)}\")"
   ]
  },
  {
   "cell_type": "code",
   "execution_count": 9,
   "id": "eecf9641-e14f-4387-99dd-461b1a07537d",
   "metadata": {},
   "outputs": [
    {
     "name": "stdin",
     "output_type": "stream",
     "text": [
      "Nhập 4 số: 5 8 912 1551\n"
     ]
    },
    {
     "name": "stdout",
     "output_type": "stream",
     "text": [
      "1551.0\n"
     ]
    }
   ],
   "source": [
    "#Bài 6\n",
    "a,b,c,d=map(float,input(\"Nhập 4 số:\").split())\n",
    "numbers=[a,b,c,d]\n",
    "print(max(numbers))\n"
   ]
  },
  {
   "cell_type": "code",
   "execution_count": 10,
   "id": "689b04bd-35c2-483d-97e1-8ac315b31f5e",
   "metadata": {},
   "outputs": [
    {
     "name": "stdin",
     "output_type": "stream",
     "text": [
      "Nhập 4 số: 5 1 785 8\n"
     ]
    },
    {
     "name": "stdout",
     "output_type": "stream",
     "text": [
      "1.0\n"
     ]
    }
   ],
   "source": [
    "#Bài 7\n",
    "a,b,c,d=map(float,input(\"Nhập 4 số:\").split())\n",
    "numbers=[a,b,c,d]\n",
    "print(min(numbers))"
   ]
  },
  {
   "cell_type": "code",
   "execution_count": 14,
   "id": "f25dfb99-dfb4-43d2-828b-6be0f7146a39",
   "metadata": {},
   "outputs": [
    {
     "name": "stdin",
     "output_type": "stream",
     "text": [
      "Hệ số biến x phương trình 1: 5\n",
      "Hệ số biến y phương trình 1: 1\n",
      "Hằng số phương trình 1: 8\n",
      "Hệ số biến x phương trình 2: 2\n",
      "Hệ số biến y phương trình 2: 3\n",
      "Hằng số phương trình 2: 5\n"
     ]
    },
    {
     "name": "stdout",
     "output_type": "stream",
     "text": [
      "Hệ phương trình có nghiệm duy nhất x=1.4615384615384615 và y=2.3076923076923075\n"
     ]
    }
   ],
   "source": [
    "#Bài 8\n",
    "a=float(input(\"Hệ số biến x phương trình 1:\"))\n",
    "b=float(input(\"Hệ số biến y phương trình 1:\"))\n",
    "m=float(input(\"Hằng số phương trình 1:\"))\n",
    "c=float(input(\"Hệ số biến x phương trình 2:\"))\n",
    "d=float(input(\"Hệ số biến y phương trình 2:\"))\n",
    "n=float(input(\"Hằng số phương trình 2:\"))\n",
    "delta=a*d - b*c\n",
    "deltax=m*d-n*b\n",
    "deltay=a*m-c*n\n",
    "if delta==0:\n",
    "    if deltax==deltay==0:\n",
    "        print(\"Hệ phương trình có vô số nghiệm.\")\n",
    "    else:\n",
    "        print(\"Hệ phương trình vô nghiệm.\")\n",
    "else:\n",
    "    print(f\"Hệ phương trình có nghiệm duy nhất x={deltax/delta} và y={deltay/delta}\")\n",
    "\n",
    "\n",
    "\n"
   ]
  },
  {
   "cell_type": "code",
   "execution_count": 20,
   "id": "262a4980-a4f5-4a26-8a63-fbdbf5da886d",
   "metadata": {},
   "outputs": [
    {
     "name": "stdin",
     "output_type": "stream",
     "text": [
      "Thời gian công việc: 15646\n"
     ]
    },
    {
     "name": "stdout",
     "output_type": "stream",
     "text": [
      "4:20:46\n"
     ]
    }
   ],
   "source": [
    "#Bài 9\n",
    "x=float(input(\"Thời gian công việc:\"))\n",
    "h=int(x/3600)\n",
    "m=int((x/3600 -h)*60)\n",
    "s=f\"{((x/3600 -h)*60-m)*60 :.0f}\"\n",
    "print(f\"{h}:{m}:{s}\")"
   ]
  },
  {
   "cell_type": "code",
   "execution_count": 28,
   "id": "b1df57ad-7738-4157-bb6d-0090ee0639d2",
   "metadata": {},
   "outputs": [
    {
     "name": "stdin",
     "output_type": "stream",
     "text": [
      "Nhập tọa độ của tâm đường tròn: 0,0\n",
      "Nhập bán kính của một đường tròn: 2\n",
      "Nhập tọa độ của điểm A bất kỳ: 2,0\n"
     ]
    },
    {
     "name": "stdout",
     "output_type": "stream",
     "text": [
      "Điểm A thuộc đường tròn tâm I(0.0,0.0), bán kính 2.0\n"
     ]
    }
   ],
   "source": [
    "#Bài 10\n",
    "#I(a,b)\n",
    "a,b=map(float,input(\"Nhập tọa độ của tâm đường tròn:\").split(\",\"))\n",
    "r=float(input(\"Nhập bán kính của một đường tròn:\"))\n",
    "#A(x,y)\n",
    "x,y=map(float,input(\"Nhập tọa độ của điểm A bất kỳ:\").split(\",\"))\n",
    "if (x-a)**2 +(y-b)**2==r**2:\n",
    "    print(f\"Điểm A thuộc đường tròn tâm I({a},{b}), bán kính {r}\")\n",
    "else:\n",
    "    print(f\"Điểm A không thuộc đường tròn tâm I({a},{b}), bán kính {r})\")\n"
   ]
  },
  {
   "cell_type": "code",
   "execution_count": 29,
   "id": "aca50819-d3a3-4231-b524-7703b9706a61",
   "metadata": {},
   "outputs": [
    {
     "name": "stdin",
     "output_type": "stream",
     "text": [
      "Nhập 2 số thực: 3.1 2.5\n"
     ]
    },
    {
     "name": "stdout",
     "output_type": "stream",
     "text": [
      "16.920151004054308\n"
     ]
    }
   ],
   "source": [
    "#Bài 11\n",
    "x,y=map(float,input(\"Nhập 2 số thực:\").split())\n",
    "print(x**y)"
   ]
  }
 ],
 "metadata": {
  "kernelspec": {
   "display_name": "Python 3 (ipykernel)",
   "language": "python",
   "name": "python3"
  },
  "language_info": {
   "codemirror_mode": {
    "name": "ipython",
    "version": 3
   },
   "file_extension": ".py",
   "mimetype": "text/x-python",
   "name": "python",
   "nbconvert_exporter": "python",
   "pygments_lexer": "ipython3",
   "version": "3.13.5"
  }
 },
 "nbformat": 4,
 "nbformat_minor": 5
}
