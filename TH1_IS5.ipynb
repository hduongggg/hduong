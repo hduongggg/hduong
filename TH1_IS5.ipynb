{
 "cells": [
  {
   "cell_type": "code",
   "execution_count": 1,
   "id": "7df37786-de5c-4189-b27e-9c8bd82db3fb",
   "metadata": {},
   "outputs": [
    {
     "name": "stdout",
     "output_type": "stream",
     "text": [
      "2\n"
     ]
    }
   ],
   "source": [
    "#W1A1\n",
    "a=7\n",
    "b=5\n",
    "c=a-b\n",
    "print(c)\n"
   ]
  },
  {
   "cell_type": "code",
   "execution_count": 5,
   "id": "a6f6eeaf-648c-481b-9974-6aeee01f9c5e",
   "metadata": {},
   "outputs": [
    {
     "name": "stdout",
     "output_type": "stream",
     "text": [
      "Thành phố Hà Nội - Năm  2025\n"
     ]
    }
   ],
   "source": [
    "#W1A2\n",
    "city=\"Hà Nội\"\n",
    "year=2025\n",
    "print(\"Thành phố\", city,\"- Năm \", year)"
   ]
  },
  {
   "cell_type": "code",
   "execution_count": 6,
   "id": "68cc8405-fde4-4ea9-96cd-11b8041e3131",
   "metadata": {},
   "outputs": [
    {
     "name": "stdout",
     "output_type": "stream",
     "text": [
      "10\n"
     ]
    }
   ],
   "source": [
    "#W1A3\n",
    "n=4\n",
    "t=0 \n",
    "for i in range(1,n+1):\n",
    " t+=i\n",
    "print(t)"
   ]
  },
  {
   "cell_type": "code",
   "execution_count": 15,
   "id": "6663d4a3-4925-4c5e-8cf7-99851924b543",
   "metadata": {},
   "outputs": [
    {
     "name": "stdout",
     "output_type": "stream",
     "text": [
      "1 là số lẻ\n",
      "2 là số chẵn\n",
      "3 là số lẻ\n",
      "4 là số chẵn\n"
     ]
    }
   ],
   "source": [
    "#W1A4\n",
    "numbers=[1,2,3,4]\n",
    "for x in numbers:\n",
    "    if x%2==0:\n",
    "      print(x,\"là số chẵn\")\n",
    "    else:\n",
    "      print(x,\"là số lẻ\")"
   ]
  },
  {
   "cell_type": "code",
   "execution_count": 20,
   "id": "875724e3-5529-4d9f-8948-e16f92b2a59f",
   "metadata": {},
   "outputs": [
    {
     "name": "stdout",
     "output_type": "stream",
     "text": [
      "Số phần tử trong danh sách là: 4\n"
     ]
    }
   ],
   "source": [
    "#W1A5\n",
    "animals=[\"cat\", \"dog\", \"cat\", \"bird\"]\n",
    "count=0\n",
    "for a in animals:\n",
    "    count+=1\n",
    "print(\"Số phần tử trong danh sách là:\", count)\n",
    "    "
   ]
  },
  {
   "cell_type": "code",
   "execution_count": 26,
   "id": "4768ca09-2782-43a7-bc7f-70df783bd2ed",
   "metadata": {},
   "outputs": [
    {
     "name": "stdout",
     "output_type": "stream",
     "text": [
      "=== AI Prediction System ===\n",
      "1) Sentiment analysis\n",
      "2) Weather forecast\n",
      "3) Exit\n"
     ]
    },
    {
     "name": "stdin",
     "output_type": "stream",
     "text": [
      "Please choose an option: 1\n"
     ]
    },
    {
     "name": "stdout",
     "output_type": "stream",
     "text": [
      "Sentiment analysis\n"
     ]
    }
   ],
   "source": [
    "#W1A6\n",
    "print(\"=== AI Prediction System ===\")\n",
    "print(\"1) Sentiment analysis\")\n",
    "print(\"2) Weather forecast\")\n",
    "print(\"3) Exit\")\n",
    "choice=input(\"Please choose an option:\")\n",
    "if choice ==\"1\":\n",
    "    print(\"Sentiment analysis\")\n",
    "elif choice ==\"2\":\n",
    "    print(\"Weather forcast\")\n",
    "elif choice ==\"3\":\n",
    "    print(\"Exit\")\n",
    "else:\n",
    "    print(\"Please choose an option:\")"
   ]
  },
  {
   "cell_type": "code",
   "execution_count": 29,
   "id": "513344ce-0df5-4aeb-98c4-10c75ba46120",
   "metadata": {},
   "outputs": [
    {
     "name": "stdin",
     "output_type": "stream",
     "text": [
      "Nhập số: 3\n"
     ]
    },
    {
     "name": "stdout",
     "output_type": "stream",
     "text": [
      "Số lẻ\n"
     ]
    }
   ],
   "source": [
    "#W1A7\n",
    "num=int(input(\"Nhập số:\"))\n",
    "if num%2==0:\n",
    " print(\"Số chẵn\")\n",
    "else:\n",
    " print(\"Số lẻ\")\n",
    "    \n"
   ]
  },
  {
   "cell_type": "code",
   "execution_count": 34,
   "id": "b54c02bc-930e-427f-9e7a-277c4c9f769f",
   "metadata": {},
   "outputs": [
    {
     "name": "stdout",
     "output_type": "stream",
     "text": [
      "AI đang học lần 1\n",
      "AI đang học lần 2\n",
      "AI đang học lần 3\n",
      "Huấn luyện xong!\n"
     ]
    }
   ],
   "source": [
    "#W1A8\n",
    "for i in range(3):\n",
    " print(\"AI đang học lần\", i+1)\n",
    "print(\"Huấn luyện xong!\")\n"
   ]
  },
  {
   "cell_type": "code",
   "execution_count": 35,
   "id": "15685a2e-15e1-4b59-8d3f-8e67f0469daa",
   "metadata": {},
   "outputs": [
    {
     "name": "stdout",
     "output_type": "stream",
     "text": [
      "Dự đoán con vật cat\n",
      "Dự đoán con vật dog\n",
      "Dự đoán con vật fish\n"
     ]
    }
   ],
   "source": [
    "#W1A9\n",
    "for x in [\"cat\",\"dog\",\"fish\"]:\n",
    "    print(\"Dự đoán con vật\", x)"
   ]
  },
  {
   "cell_type": "code",
   "execution_count": 36,
   "id": "ee4d9b6c-22cd-4367-a14f-fb1e0df33633",
   "metadata": {},
   "outputs": [
    {
     "name": "stdout",
     "output_type": "stream",
     "text": [
      "===AI Prediction System===\n",
      "1) Sentiment Analysis\n",
      "2) Weather Forecast\n",
      "3) Exit\n",
      "Please choose an option:\n"
     ]
    }
   ],
   "source": [
    "#W1A10\n",
    "#Simple menu\n",
    "print(\"===AI Prediction System===\")\n",
    "print(\"1) Sentiment Analysis\")\n",
    "print(\"2) Weather Forecast\")\n",
    "print(\"3) Exit\")\n",
    "print(\"Please choose an option:\")"
   ]
  }
 ],
 "metadata": {
  "kernelspec": {
   "display_name": "Python 3 (ipykernel)",
   "language": "python",
   "name": "python3"
  },
  "language_info": {
   "codemirror_mode": {
    "name": "ipython",
    "version": 3
   },
   "file_extension": ".py",
   "mimetype": "text/x-python",
   "name": "python",
   "nbconvert_exporter": "python",
   "pygments_lexer": "ipython3",
   "version": "3.13.5"
  }
 },
 "nbformat": 4,
 "nbformat_minor": 5
}
