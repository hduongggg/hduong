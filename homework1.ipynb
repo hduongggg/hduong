{
 "cells": [
  {
   "cell_type": "code",
   "execution_count": 2,
   "id": "0237b5be-bf4f-4e2d-81cf-88c3f1c088d0",
   "metadata": {},
   "outputs": [
    {
     "name": "stdin",
     "output_type": "stream",
     "text": [
      "Nhập số nguyên: 12\n"
     ]
    },
    {
     "name": "stdout",
     "output_type": "stream",
     "text": [
      "24\n"
     ]
    }
   ],
   "source": [
    "#Bài 1\n",
    "n=int(input(\"Nhập số nguyên:\"))\n",
    "print(2*n)\n"
   ]
  },
  {
   "cell_type": "code",
   "execution_count": 23,
   "id": "0688aedd-ff2b-4f75-85d7-dbaeaca1562f",
   "metadata": {},
   "outputs": [
    {
     "name": "stdin",
     "output_type": "stream",
     "text": [
      "Nhập lần lượt chiều rộng và chiều dài của khu đất hình chữ nhật: 12 15\n"
     ]
    },
    {
     "name": "stdout",
     "output_type": "stream",
     "text": [
      "Diện tích còn để trồng cây xung quanh là 66.96\n"
     ]
    }
   ],
   "source": [
    "#Bài 2\n",
    "a,b=map(float,input(\"Nhập lần lượt chiều rộng và chiều dài của khu đất hình chữ nhật:\").split())\n",
    "print(f\"Diện tích còn để trồng cây xung quanh là {a*b-3.14*(a/2)**2:.2f}\")\n"
   ]
  },
  {
   "cell_type": "code",
   "execution_count": 11,
   "id": "8f9cac44-4b54-4255-adce-8168f3832121",
   "metadata": {},
   "outputs": [
    {
     "name": "stdin",
     "output_type": "stream",
     "text": [
      "Nhập ký tự: h\n"
     ]
    },
    {
     "name": "stdout",
     "output_type": "stream",
     "text": [
      "H\n"
     ]
    }
   ],
   "source": [
    "#Bài 3 #Viết hoa 65-90 Viết thường 97-122\n",
    "#Cách 1\n",
    "c=input(\"Nhập ký tự:\")\n",
    "if 65<=ord(c) and ord(c) <=90:\n",
    "    print(chr(ord(c)+32))\n",
    "if 97<= ord(c) and ord(c) <=122:\n",
    "    print(chr(ord(c)-32))\n",
    "\n",
    "    \n"
   ]
  },
  {
   "cell_type": "code",
   "execution_count": 40,
   "id": "3bf86415-6a86-4f26-87d1-58dd869b7f66",
   "metadata": {},
   "outputs": [
    {
     "name": "stdin",
     "output_type": "stream",
     "text": [
      "Nhập ký tự: j\n"
     ]
    },
    {
     "name": "stdout",
     "output_type": "stream",
     "text": [
      "J\n"
     ]
    }
   ],
   "source": [
    "#Bài 3 \n",
    "#Cách 2\n",
    "c=input(\"Nhập ký tự:\")\n",
    "if c.islower:\n",
    "    print(c.upper())\n",
    "elif c.isupper:\n",
    "    print(c.lower())\n"
   ]
  },
  {
   "cell_type": "code",
   "execution_count": 43,
   "id": "a23559ae-211a-4fd7-9695-3d7e3aef5022",
   "metadata": {},
   "outputs": [
    {
     "name": "stdin",
     "output_type": "stream",
     "text": [
      "Nhập ký tự: 1\n"
     ]
    },
    {
     "name": "stdout",
     "output_type": "stream",
     "text": [
      "{c} không là ký tự alphabet\n"
     ]
    }
   ],
   "source": [
    "#Bài 4\n",
    "c=input(\"Nhập ký tự:\")\n",
    "if c.isalpha():\n",
    "    print(\"{c} là ký tự alphabet\")\n",
    "else:\n",
    "    print(\"{c} không là ký tự alphabet\")\n"
   ]
  },
  {
   "cell_type": "code",
   "execution_count": 47,
   "id": "31f852ad-86b9-4505-be37-b585e5b139dc",
   "metadata": {},
   "outputs": [
    {
     "name": "stdin",
     "output_type": "stream",
     "text": [
      "Nhập chữ cái hoa: A\n"
     ]
    },
    {
     "name": "stdout",
     "output_type": "stream",
     "text": [
      "`\n"
     ]
    }
   ],
   "source": [
    "#Bài 5\n",
    "c=input(\"Nhập chữ cái hoa:\")\n",
    "print(chr(ord(c)+31))"
   ]
  },
  {
   "cell_type": "code",
   "execution_count": 12,
   "id": "7ef6b4f6-85ac-44cb-aa00-5acb1f2bcd8f",
   "metadata": {},
   "outputs": [
    {
     "name": "stdin",
     "output_type": "stream",
     "text": [
      "Nhập 3 số bất kỳ: 2 8 12\n"
     ]
    },
    {
     "name": "stdout",
     "output_type": "stream",
     "text": [
      "Không phải ba cạnh của tam giác.\n"
     ]
    }
   ],
   "source": [
    "#Bài 6\n",
    "a,b,c=map(float,input(\"Nhập 3 số bất kỳ:\").split())\n",
    "p=(a+b+c)/2\n",
    "if a+b>c and a+c>b and b+c>a:\n",
    "    print(f\"Đây là các cạnh của tam giác có diện tích {(p*(p-a)*(p-b)*(p-c))**0.5:.1f}\") \n",
    "else:\n",
    "    print(\"Không phải ba cạnh của tam giác.\")"
   ]
  },
  {
   "cell_type": "code",
   "execution_count": 72,
   "id": "bbc4452c-42c6-4425-a96c-e4efe251bf33",
   "metadata": {},
   "outputs": [
    {
     "name": "stdin",
     "output_type": "stream",
     "text": [
      "Nhập chuỗi ký tự thường độ dài>=20: 1asdg1sdgh1df5h1df61h4fd641hd\n"
     ]
    },
    {
     "name": "stdout",
     "output_type": "stream",
     "text": [
      "Chữ cái thứ 5:g\n",
      "Chữ cái thứ 9:g\n"
     ]
    }
   ],
   "source": [
    "#Bài 7\n",
    "n=input(\"Nhập chuỗi ký tự thường độ dài>=20:\")\n",
    "if len(n)>=20:\n",
    "   print(f\"Chữ cái thứ 5:{n[4]}\",f\"Chữ cái thứ 9:{n[8]}\",sep=\"\\n\")\n",
    "else:\n",
    "    print(\"Độ dài chuỗi ký tự không hợp lệ. Vui lòng nhập lại!\")\n"
   ]
  },
  {
   "cell_type": "code",
   "execution_count": 1,
   "id": "30417cd0-8b67-4551-8aaa-488e8252cbb1",
   "metadata": {},
   "outputs": [
    {
     "name": "stdin",
     "output_type": "stream",
     "text": [
      "Tên chủ hộ: Dương Anh Hoàng\n",
      "Chỉ số điện kế tháng trước: 1020\n",
      "Chỉ số điện kế tháng này: 1070\n"
     ]
    },
    {
     "name": "stdout",
     "output_type": "stream",
     "text": [
      "Họ và tên:  Dương Anh Hoàng\n",
      "Tiền phải trả là: 107136\n"
     ]
    }
   ],
   "source": [
    "#Bài 8\n",
    "name=input(\"Tên chủ hộ:\")\n",
    "last=int(input(\"Chỉ số điện kế tháng trước:\"))\n",
    "now=int(input(\"Chỉ số điện kế tháng này:\"))\n",
    "print(\"Họ và tên: \",name)\n",
    "use=now-last\n",
    "#Bậc 1\n",
    "if use>=0 and use<=50:\n",
    "    print(f\"Tiền phải trả là: {use*1984*1.08:.0f}\")\n",
    "#Bậc 2\n",
    "elif use>=51 and use<=100:\n",
    "    print(f\"Tiền phải trả là: {use*2050*1.08:.0f}\")\n",
    "#Bậc 3\n",
    "elif use>=101 and use<=200:\n",
    "    print(f\"Tiền phải trả là: {use*2380*1.08:.0f}\")\n",
    "#Bậc 4\n",
    "elif use>=201 and use<=300:\n",
    "    print(f\"Tiền phải trả là: {use*2998*1.08:.0f}\")\n",
    "#Bậc 5\n",
    "elif use>=301 and use<=400:\n",
    "    print(f\"Tiền phải trả là: {use*3350*1.08:.0f}\")\n",
    "#Bậc 6\n",
    "elif use>=401:\n",
    "    print(f\"Tiền phải trả là: {use*3460*1.08:.0f}\")\n",
    "else:\n",
    "    print(\"Lỗi\")"
   ]
  },
  {
   "cell_type": "code",
   "execution_count": 76,
   "id": "0395840b-8948-450d-ae4c-844904539fab",
   "metadata": {},
   "outputs": [],
   "source": [
    "#BTVN"
   ]
  },
  {
   "cell_type": "code",
   "execution_count": 79,
   "id": "89f692bb-e7d1-44ca-8deb-cdb9c050b759",
   "metadata": {},
   "outputs": [
    {
     "name": "stdin",
     "output_type": "stream",
     "text": [
      "Nhập số nguyên: 20\n"
     ]
    },
    {
     "name": "stdout",
     "output_type": "stream",
     "text": [
      "20 là số chẵn\n"
     ]
    }
   ],
   "source": [
    "#1\n",
    "n=int(input(\"Nhập số nguyên:\"))\n",
    "if n%2==0:\n",
    "  print(f\"{n} là số chẵn\")\n",
    "else:\n",
    "  print(f\"{n} là số lẻ\")"
   ]
  },
  {
   "cell_type": "code",
   "execution_count": 80,
   "id": "6efb3a83-7e39-46ce-82cd-6f49ec2f3ae2",
   "metadata": {},
   "outputs": [
    {
     "name": "stdin",
     "output_type": "stream",
     "text": [
      "Nhập số nguyên: 25023252\n"
     ]
    },
    {
     "name": "stdout",
     "output_type": "stream",
     "text": [
      "False\n"
     ]
    }
   ],
   "source": [
    "#2\n",
    "n=int(input(\"Nhập số nguyên:\"))\n",
    "if n%10==5:\n",
    "    print(\"True\")\n",
    "else:\n",
    "    print(\"False\")\n",
    "      "
   ]
  },
  {
   "cell_type": "code",
   "execution_count": 81,
   "id": "98cfa2a7-5d0f-4e8b-bd4b-f3f2da9796e1",
   "metadata": {},
   "outputs": [
    {
     "name": "stdin",
     "output_type": "stream",
     "text": [
      "Nhập số nguyên: 25023252\n"
     ]
    },
    {
     "name": "stdout",
     "output_type": "stream",
     "text": [
      "False\n"
     ]
    }
   ],
   "source": [
    "#3\n",
    "n=int(input(\"Nhập số nguyên:\"))\n",
    "if n%15==0:\n",
    "    print(\"True\")\n",
    "else:\n",
    "    print(\"False\")\n",
    "    "
   ]
  },
  {
   "cell_type": "code",
   "execution_count": 82,
   "id": "05873b38-a0de-43af-be54-fa31c4816cfd",
   "metadata": {},
   "outputs": [
    {
     "name": "stdin",
     "output_type": "stream",
     "text": [
      "Năm sinh: 2007\n"
     ]
    },
    {
     "name": "stdout",
     "output_type": "stream",
     "text": [
      "Đủ 18 tuổi để đi bầu cử.\n"
     ]
    }
   ],
   "source": [
    "#4\n",
    "n=int(input(\"Năm sinh:\"))\n",
    "if n>=18:\n",
    "    print(\"Đủ 18 tuổi để đi bầu cử.\")\n",
    "else:\n",
    "    print(\"Không đủ 18 tuổi để đi bầu cử.\")"
   ]
  },
  {
   "cell_type": "code",
   "execution_count": 84,
   "id": "2b710169-0fdf-4113-a2b1-e1f5d97a66ed",
   "metadata": {},
   "outputs": [
    {
     "name": "stdin",
     "output_type": "stream",
     "text": [
      "Nhập 2 số bất kỳ: 15 16\n"
     ]
    },
    {
     "name": "stdout",
     "output_type": "stream",
     "text": [
      "16.0\n"
     ]
    }
   ],
   "source": [
    "#5\n",
    "a,b=map(float,input(\"Nhập 2 số bất kỳ:\").split())\n",
    "if a>b:\n",
    "    print(a)\n",
    "elif a<b:\n",
    "    print(b)\n",
    "else:\n",
    "    print(\"Hai số bằng nhau.\")\n"
   ]
  },
  {
   "cell_type": "code",
   "execution_count": 86,
   "id": "d93225ce-3b30-47bc-9117-df5953ac3744",
   "metadata": {},
   "outputs": [
    {
     "name": "stdin",
     "output_type": "stream",
     "text": [
      "Nhập một ký tự: i\n"
     ]
    },
    {
     "name": "stdout",
     "output_type": "stream",
     "text": [
      "i là chữ cái.\n"
     ]
    }
   ],
   "source": [
    "#6\n",
    "n=input(\"Nhập một ký tự:\")\n",
    "if n.isdigit():\n",
    "    print(f\"{n} là chữ số.\")\n",
    "elif n.isalpha():\n",
    "    print(f\"{n} là chữ cái.\")\n",
    "else:\n",
    "    print(\"Không là chữ cái không là chữ số\")"
   ]
  },
  {
   "cell_type": "code",
   "execution_count": 88,
   "id": "98471bba-4ee4-430c-895b-5fdbd5c8da53",
   "metadata": {},
   "outputs": [
    {
     "name": "stdin",
     "output_type": "stream",
     "text": [
      "Nhập điểm: 6.5\n"
     ]
    },
    {
     "name": "stdout",
     "output_type": "stream",
     "text": [
      "Khá\n"
     ]
    }
   ],
   "source": [
    "#7\n",
    "n=float(input(\"Nhập điểm:\"))\n",
    "if n>=8 and n<=10:\n",
    "    print(\"Giỏi\")\n",
    "elif n>=6.5 and n<8:\n",
    "    print(\"Khá\")\n",
    "elif n>=5 and n<6.5:\n",
    "    print(\"Trung bình\")\n",
    "elif n>=0 and n<5:\n",
    "    print(\"Yếu\")\n",
    "else:\n",
    "    print(\"Error\")\n"
   ]
  },
  {
   "cell_type": "code",
   "execution_count": 90,
   "id": "5cb6548a-765b-4334-8c45-ba430b12a5d6",
   "metadata": {},
   "outputs": [
    {
     "name": "stdin",
     "output_type": "stream",
     "text": [
      "Nhập năm: 2025\n"
     ]
    },
    {
     "name": "stdout",
     "output_type": "stream",
     "text": [
      "Năm 2025 không phải là năm nhuận\n"
     ]
    }
   ],
   "source": [
    "#8\n",
    "year=int(input(\"Nhập năm:\"))\n",
    "if year%400==0 or (year%4==0 and year%100!=0):\n",
    "    print(f\"Năm {year} là năm nhuận\")\n",
    "else:\n",
    "    print(f\"Năm {year} không phải là năm nhuận\")"
   ]
  },
  {
   "cell_type": "code",
   "execution_count": 2,
   "id": "e3278a34-bfb6-46ae-b191-13567145c511",
   "metadata": {},
   "outputs": [
    {
     "name": "stdin",
     "output_type": "stream",
     "text": [
      "Nhập một số nguyên từ 0-9: 8\n"
     ]
    },
    {
     "name": "stdout",
     "output_type": "stream",
     "text": [
      "Tám\n"
     ]
    }
   ],
   "source": [
    "#9\n",
    "n=int(input(\"Nhập một số nguyên từ 0-9:\"))\n",
    "match n:\n",
    "    case 0:\n",
    "        print(\"Không\")\n",
    "    case 1:\n",
    "        print(\"Một\")\n",
    "    case 2:\n",
    "        print(\"Hai\")\n",
    "    case 3:\n",
    "        print(\"Ba\")\n",
    "    case 4:\n",
    "        print(\"Bốn\")\n",
    "    case 5:\n",
    "        print(\"Năm\")\n",
    "    case 6:\n",
    "        print(\"Sáu\")\n",
    "    case 7:\n",
    "        print(\"Bảy\")\n",
    "    case 8:\n",
    "        print(\"Tám\")\n",
    "    case 9:\n",
    "        print(\"Chín\")\n",
    "    case _:\n",
    "        print(\"Lỗi\")"
   ]
  },
  {
   "cell_type": "code",
   "execution_count": 95,
   "id": "007c6604-9729-4f84-b807-cb8ebcf2324d",
   "metadata": {},
   "outputs": [
    {
     "name": "stdin",
     "output_type": "stream",
     "text": [
      "Nhập điểm thi: 5.5\n"
     ]
    },
    {
     "name": "stdout",
     "output_type": "stream",
     "text": [
      "Qua môn\n"
     ]
    }
   ],
   "source": [
    "#10\n",
    "n=float(input(\"Nhập điểm thi:\"))\n",
    "if n>=4:\n",
    "    print(\"Qua môn\")\n",
    "else: \n",
    "    print(\"Học lại\")\n",
    "    "
   ]
  },
  {
   "cell_type": "code",
   "execution_count": 97,
   "id": "324e6820-f66a-481f-b919-aa40d0b58183",
   "metadata": {},
   "outputs": [
    {
     "name": "stdin",
     "output_type": "stream",
     "text": [
      "Nhập năm sinh: 2009\n"
     ]
    },
    {
     "name": "stdout",
     "output_type": "stream",
     "text": [
      "Không đủ 18 tuổi\n"
     ]
    }
   ],
   "source": [
    "#11\n",
    "n=int(input(\"Nhập năm sinh:\"))\n",
    "if 2025-n>=18:\n",
    "    print(\"Đủ 18 tuổi\")\n",
    "else:\n",
    "    print(\"Không đủ 18 tuổi\")"
   ]
  }
 ],
 "metadata": {
  "kernelspec": {
   "display_name": "Python 3 (ipykernel)",
   "language": "python",
   "name": "python3"
  },
  "language_info": {
   "codemirror_mode": {
    "name": "ipython",
    "version": 3
   },
   "file_extension": ".py",
   "mimetype": "text/x-python",
   "name": "python",
   "nbconvert_exporter": "python",
   "pygments_lexer": "ipython3",
   "version": "3.13.5"
  }
 },
 "nbformat": 4,
 "nbformat_minor": 5
}
