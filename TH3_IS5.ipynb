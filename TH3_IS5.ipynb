{
 "cells": [
  {
   "cell_type": "code",
   "execution_count": 36,
   "id": "7f499061-4f6e-4066-9a82-8ebfdca17612",
   "metadata": {},
   "outputs": [
    {
     "name": "stdin",
     "output_type": "stream",
     "text": [
      "Nhập 2 số: 5 9\n"
     ]
    },
    {
     "name": "stdout",
     "output_type": "stream",
     "text": [
      "before:a=5,b=9\n",
      "after:a=9,b=5\n"
     ]
    }
   ],
   "source": [
    "#W3A2\n",
    "a,b=map(int,input(\"Nhập 2 số:\").split())\n",
    "print(f\"before:a={a},b={b}\")\n",
    "a^=b\n",
    "b^=a\n",
    "a^=b\n",
    "print(f\"after:a={a},b={b}\")\n",
    "\n"
   ]
  },
  {
   "cell_type": "code",
   "execution_count": 14,
   "id": "2b73f258-7e66-4c14-a416-c65bb3f32a1a",
   "metadata": {},
   "outputs": [
    {
     "name": "stdin",
     "output_type": "stream",
     "text": [
      "Nhập một số bất kỳ: 1024\n"
     ]
    },
    {
     "name": "stdout",
     "output_type": "stream",
     "text": [
      "Là lũy thừa của 2\n"
     ]
    }
   ],
   "source": [
    "#W3A3\n",
    "n=int(input(\"Nhập một số bất kỳ:\"))\n",
    "if n&(n-1)==0:\n",
    "    print(\"Là lũy thừa của 2\")\n",
    "else:\n",
    "    print(\"Không là lũy thừa của 2\")\n",
    "    "
   ]
  },
  {
   "cell_type": "code",
   "execution_count": 18,
   "id": "171bd3cc-7a1f-400b-b44b-087021f6c8b4",
   "metadata": {},
   "outputs": [
    {
     "name": "stdin",
     "output_type": "stream",
     "text": [
      "Nhập 2 số bất kỳ: 10 4\n"
     ]
    },
    {
     "name": "stdout",
     "output_type": "stream",
     "text": [
      "2.0\n"
     ]
    }
   ],
   "source": [
    "# W3A4\n",
    "m,n=map(float,input(\"Nhập 2 số bất kỳ:\").split())\n",
    "print(m//n)\n"
   ]
  },
  {
   "cell_type": "code",
   "execution_count": 22,
   "id": "df7aee52-7155-497e-877b-2578b0d15c84",
   "metadata": {},
   "outputs": [
    {
     "name": "stdin",
     "output_type": "stream",
     "text": [
      "Nhập 2 số bất kỳ: 6 7\n"
     ]
    },
    {
     "name": "stdout",
     "output_type": "stream",
     "text": [
      "1.0\n"
     ]
    }
   ],
   "source": [
    "#W3A5\n",
    "m,n=map(float,input(\"Nhập 2 số bất kỳ:\").split())\n",
    "print(m//n +1)"
   ]
  },
  {
   "cell_type": "code",
   "execution_count": 24,
   "id": "c5c0d40e-3bba-434a-a6c2-effda3becca6",
   "metadata": {},
   "outputs": [
    {
     "name": "stdin",
     "output_type": "stream",
     "text": [
      "Nhập số nguyên dương: 5\n"
     ]
    },
    {
     "name": "stdout",
     "output_type": "stream",
     "text": [
      "Odd\n"
     ]
    }
   ],
   "source": [
    "#W3A6\n",
    "x=int(input(\"Nhập số nguyên dương:\"))\n",
    "if x>0:\n",
    "    if x%2==0:\n",
    "        print(\"Even\")\n",
    "    else:\n",
    "        print(\"Odd\")\n",
    "else:\n",
    "    print(\"Lỗi số liệu\")"
   ]
  },
  {
   "cell_type": "code",
   "execution_count": 27,
   "id": "09a96e93-36bc-4594-a7e5-266858851b3a",
   "metadata": {},
   "outputs": [
    {
     "name": "stdin",
     "output_type": "stream",
     "text": [
      "Nhập 2 số nguyên: 6 7\n"
     ]
    },
    {
     "name": "stdout",
     "output_type": "stream",
     "text": [
      "No\n"
     ]
    }
   ],
   "source": [
    "#W3A7\n",
    "a,b=map(int,input(\"Nhập 2 số nguyên:\").split())\n",
    "if a<0 and b<0:\n",
    "  print(\"Yes\")\n",
    "else:\n",
    "  print(\"No\")"
   ]
  },
  {
   "cell_type": "code",
   "execution_count": 28,
   "id": "c8362b22-affb-431a-8163-ceabc00abc0a",
   "metadata": {},
   "outputs": [
    {
     "name": "stdin",
     "output_type": "stream",
     "text": [
      "Chuỗi a: dhzfdhfghgfxhxf\n",
      "Chuỗi b: xdhxfhjxtrjstrdh\n"
     ]
    },
    {
     "name": "stdout",
     "output_type": "stream",
     "text": [
      "False\n"
     ]
    }
   ],
   "source": [
    "#W3A8\n",
    "a=input(\"Chuỗi a:\")\n",
    "b=input(\"Chuỗi b:\")\n",
    "if len(a)>len(b):\n",
    "    print(\"True\")\n",
    "else:\n",
    "    print(\"False\")\n"
   ]
  },
  {
   "cell_type": "code",
   "execution_count": 30,
   "id": "504dcc21-0f9f-48f2-a90e-eacce8f7f587",
   "metadata": {},
   "outputs": [
    {
     "name": "stdin",
     "output_type": "stream",
     "text": [
      "Nhập 3 số nguyên dương a,b,c: 3,4,5\n"
     ]
    },
    {
     "name": "stdout",
     "output_type": "stream",
     "text": [
      "Yes\n"
     ]
    }
   ],
   "source": [
    "#W3A9\n",
    "a,b,c=map(int,input(\"Nhập 3 số nguyên dương a,b,c:\").split(\",\"))\n",
    "if a+b>c and a+c>b and b+c>a:\n",
    "    print(\"Yes\")\n",
    "else:\n",
    "    print(\"No\")\n",
    "    "
   ]
  },
  {
   "cell_type": "code",
   "execution_count": 31,
   "id": "53c7a86e-222c-4a11-8383-58b1e9f021cd",
   "metadata": {},
   "outputs": [
    {
     "name": "stdin",
     "output_type": "stream",
     "text": [
      "Nhập 4 số nguyên: 5 6 8 9\n"
     ]
    },
    {
     "name": "stdout",
     "output_type": "stream",
     "text": [
      "9\n"
     ]
    }
   ],
   "source": [
    "#W3A10\n",
    "a,b,c,d=map(int,input(\"Nhập 4 số nguyên:\").split())\n",
    "numbers=[a,b,c,d]\n",
    "print(max(numbers))"
   ]
  },
  {
   "cell_type": "code",
   "execution_count": 47,
   "id": "3de219f7-fca1-437d-b612-1b5c0a6db1c0",
   "metadata": {},
   "outputs": [
    {
     "name": "stdin",
     "output_type": "stream",
     "text": [
      "Nhập 3 số nguyên dương a,b,c: 3 4 5\n"
     ]
    },
    {
     "name": "stdout",
     "output_type": "stream",
     "text": [
      "Tam giác thường\n"
     ]
    }
   ],
   "source": [
    "#W3A11\n",
    "a,b,c=map(int,input(\"Nhập 3 số nguyên dương a,b,c:\").split())\n",
    "if a+b>c and a+c>b and b+c>a:\n",
    "    if a==b==c:\n",
    "      print(\"Tam giác đều\")\n",
    "    elif a==b!=c or a==c!=b or b==c!=a:\n",
    "      print(\"Tam giác cân\")\n",
    "    else:\n",
    "      print(\"Tam giác thường\")\n",
    "else:\n",
    "    print(\"Không phải tam giác\")\n"
   ]
  },
  {
   "cell_type": "code",
   "execution_count": 37,
   "id": "463e9541-48a9-405a-8d99-c114d01c3e10",
   "metadata": {},
   "outputs": [
    {
     "name": "stdin",
     "output_type": "stream",
     "text": [
      "Năm: 2025\n"
     ]
    },
    {
     "name": "stdout",
     "output_type": "stream",
     "text": [
      "No\n"
     ]
    }
   ],
   "source": [
    "#W3A12\n",
    "n=int(input(\"Năm:\"))\n",
    "if (n%4==0 and n%100!=0) or n%400==0:\n",
    "    print(\"Yes\")\n",
    "else:\n",
    "    print(\"No\")\n"
   ]
  },
  {
   "cell_type": "code",
   "execution_count": 39,
   "id": "9167cd66-82b5-4db7-9080-d86e883f1fba",
   "metadata": {},
   "outputs": [
    {
     "name": "stdin",
     "output_type": "stream",
     "text": [
      "Nhập 2 số thực: 6 5\n"
     ]
    },
    {
     "name": "stdout",
     "output_type": "stream",
     "text": [
      "Phương trình có nghiệm duy nhất x=-0.83\n"
     ]
    }
   ],
   "source": [
    "#W3A14\n",
    "a,b=map(float,input(\"Nhập 2 số thực:\").split())\n",
    "if a==0:\n",
    "    if b==0:\n",
    "        print(\"Vô số nghiệm\")\n",
    "    else:\n",
    "        print(\"Vô nghiệm\")\n",
    "else:\n",
    "    print(f\"Phương trình có nghiệm duy nhất x={-b/a:.2f}\")\n"
   ]
  },
  {
   "cell_type": "code",
   "execution_count": 41,
   "id": "c8c325da-4ea2-4bc7-a881-35d5cb97b4a3",
   "metadata": {},
   "outputs": [
    {
     "name": "stdin",
     "output_type": "stream",
     "text": [
      "Điểm trung bình: 9\n"
     ]
    },
    {
     "name": "stdout",
     "output_type": "stream",
     "text": [
      "Giỏi\n"
     ]
    }
   ],
   "source": [
    "#W3A15\n",
    "p=float(input(\"Điểm trung bình:\"))\n",
    "if 0<=p<=10:\n",
    "   if p>=8:\n",
    "    print(\"Giỏi\")\n",
    "   elif 6.5<=p<8:\n",
    "    print(\"Khá\")\n",
    "   elif 5<=p<6.5:\n",
    "    print(\"Trung bình\")\n",
    "   else:\n",
    "    print(\"Yếu\")\n",
    "else:\n",
    "  print(\"Lỗi\")\n",
    "\n",
    "\n",
    "\n"
   ]
  },
  {
   "cell_type": "code",
   "execution_count": 44,
   "id": "8fcd1353-0c5e-4f07-b1a1-563ba346bc17",
   "metadata": {},
   "outputs": [
    {
     "name": "stdin",
     "output_type": "stream",
     "text": [
      "Nhập vào một số thực: 4.6743675345763\n"
     ]
    },
    {
     "name": "stdout",
     "output_type": "stream",
     "text": [
      "4 5 5\n"
     ]
    }
   ],
   "source": [
    "#W3A16\n",
    "n=float(input(\"Nhập vào một số thực:\"))\n",
    "print(f\"{int(n)} {int(n)+1} {n:.0f}\")"
   ]
  },
  {
   "cell_type": "code",
   "execution_count": 53,
   "id": "50abbeb1-2920-45f9-bf7d-292ffa05afed",
   "metadata": {},
   "outputs": [
    {
     "name": "stdin",
     "output_type": "stream",
     "text": [
      "Nhập 4 số bất kỳ: 2 4 8 16\n"
     ]
    },
    {
     "name": "stdout",
     "output_type": "stream",
     "text": [
      "Là cấp số nhân với công bội nguyên theo đúng thứ tự a,b,c,d\n"
     ]
    }
   ],
   "source": [
    "#W3A17\n",
    "a,b,c,d=map(float,input(\"Nhập 4 số bất kỳ:\").split())\n",
    "if b%a==0:\n",
    "    if b*(b/a)==c and c*(b/a)==d:\n",
    "        print(\"Là cấp số nhân với công bội nguyên theo đúng thứ tự a,b,c,d\")\n",
    "    else:\n",
    "        print(\"Không là cấp số nhân với công bội nguyên theo đúng thứ tự a,b,c,d\")\n",
    "else:\n",
    "    print(\"Không là cấp số nhân với công bội nguyên theo đúng thứ tự a,b,c,d\")"
   ]
  },
  {
   "cell_type": "code",
   "execution_count": null,
   "id": "cbac93c2-c69c-4474-afcd-8a00d666c1c1",
   "metadata": {},
   "outputs": [],
   "source": []
  }
 ],
 "metadata": {
  "kernelspec": {
   "display_name": "Python 3 (ipykernel)",
   "language": "python",
   "name": "python3"
  },
  "language_info": {
   "codemirror_mode": {
    "name": "ipython",
    "version": 3
   },
   "file_extension": ".py",
   "mimetype": "text/x-python",
   "name": "python",
   "nbconvert_exporter": "python",
   "pygments_lexer": "ipython3",
   "version": "3.13.5"
  }
 },
 "nbformat": 4,
 "nbformat_minor": 5
}
